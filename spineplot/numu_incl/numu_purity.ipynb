{
 "cells": [
  {
   "cell_type": "markdown",
   "id": "3b51989d",
   "metadata": {},
   "source": [
    "#### Goal - Calculate the purity as a function of cut in the sample"
   ]
  },
  {
   "cell_type": "markdown",
   "id": "1bb278e0",
   "metadata": {},
   "source": [
    "## 0. Import packages / Constants"
   ]
  },
  {
   "cell_type": "code",
   "execution_count": 18,
   "id": "a8b3391d",
   "metadata": {},
   "outputs": [
    {
     "name": "stdout",
     "output_type": "stream",
     "text": [
      "The autoreload extension is already loaded. To reload it, use:\n",
      "  %reload_ext autoreload\n"
     ]
    }
   ],
   "source": [
    "import pandas as pd\n",
    "import numpy as np\n",
    "import matplotlib.pyplot as plt\n",
    "import uproot\n",
    "from tqdm import tqdm\n",
    "import sys,os\n",
    "\n",
    "MEDULLA_DIR = '/exp/sbnd/app/users/brindenc/develop/medulla_area/medulla'\n",
    "\n",
    "sys.path.append(MEDULLA_DIR)\n",
    "\n",
    "plt.style.use('/exp/sbnd/app/users/brindenc/develop/medulla_area/medulla/spineplot/styles/numu2025.mplstyle')\n",
    "\n",
    "%load_ext autoreload\n",
    "%autoreload 2"
   ]
  },
  {
   "cell_type": "code",
   "execution_count": 23,
   "id": "c9a1458f",
   "metadata": {},
   "outputs": [],
   "source": [
    "SBRUCE_FILE = '/exp/sbnd/data/users/brindenc/medulla/test/numucc_incl_sys2.root'\n",
    "OUTPUT_DIR = '/exp/sbnd/data/users/brindenc/medulla/test/tmp2'"
   ]
  },
  {
   "cell_type": "markdown",
   "id": "3be0ded8",
   "metadata": {},
   "source": [
    "## 1. Load data + extract variables"
   ]
  },
  {
   "cell_type": "code",
   "execution_count": 24,
   "id": "03b0526e",
   "metadata": {},
   "outputs": [],
   "source": [
    "tree_nu = uproot.open(SBRUCE_FILE)['events/simulation;1']#/selected1muXNu_none;1']\n",
    "tree_cos = uproot.open(SBRUCE_FILE)['events/simulation;1']#/selected1muXCos_none;1']\n",
    "tree_offbeam = uproot.open(SBRUCE_FILE)['events/data_offbeam;1']#/selected1muXCos_none;1']\n",
    "tree_data = uproot.open(SBRUCE_FILE)['events/data;1']#/selected1muXCos_none;1']\n",
    "\n",
    "#Normalize by livetime since off-beam has no POT\n",
    "livetime_nu, pot_nu = tree_nu['Livetime;1'].values()[0], tree_nu['POT;1'].values()[0]\n",
    "livetime_cos, pot_cos = tree_cos['Livetime;1'].values()[0], tree_cos['POT;1'].values()[0]\n",
    "livetime_offbeam, pot_offbeam = tree_offbeam['Livetime;1'].values()[0], tree_offbeam['POT;1'].values()[0]\n",
    "livetime_data, pot_data = tree_data['Livetime;1'].values()[0], tree_data['POT;1'].values()[0]\n",
    "\n",
    "#Normalize everything to data (use livetime for off-beam since there's no POT)\n",
    "weight_nu, weight_cos = 1., 1.\n",
    "weight_data = pot_data/pot_nu\n",
    "weight_offbeam = livetime_data/livetime_offbeam * 1/weight_data\n",
    "weights = [weight_nu, weight_cos, weight_offbeam] #Exclude data from purity calculation"
   ]
  },
  {
   "cell_type": "code",
   "execution_count": 25,
   "id": "8bd6dfa0",
   "metadata": {},
   "outputs": [
    {
     "data": {
      "text/plain": [
       "(np.float64(7.523829744643604e+17), np.float64(4.5775537265536983e+18))"
      ]
     },
     "execution_count": 25,
     "metadata": {},
     "output_type": "execute_result"
    }
   ],
   "source": [
    "pot_nu,pot_data"
   ]
  },
  {
   "cell_type": "code",
   "execution_count": 27,
   "id": "f4d11d78",
   "metadata": {},
   "outputs": [
    {
     "data": {
      "text/html": [
       "<div>\n",
       "<style scoped>\n",
       "    .dataframe tbody tr th:only-of-type {\n",
       "        vertical-align: middle;\n",
       "    }\n",
       "\n",
       "    .dataframe tbody tr th {\n",
       "        vertical-align: top;\n",
       "    }\n",
       "\n",
       "    .dataframe thead th {\n",
       "        text-align: right;\n",
       "    }\n",
       "</style>\n",
       "<table border=\"1\" class=\"dataframe\">\n",
       "  <thead>\n",
       "    <tr style=\"text-align: right;\">\n",
       "      <th></th>\n",
       "      <th>reco_leading_muon_momentum</th>\n",
       "      <th>reco_leading_muon_costheta</th>\n",
       "      <th>reco_vertex_x</th>\n",
       "      <th>true_leading_muon_momentum</th>\n",
       "      <th>true_leading_muon_costheta</th>\n",
       "      <th>true_vertex_x</th>\n",
       "      <th>true_category</th>\n",
       "    </tr>\n",
       "  </thead>\n",
       "  <tbody>\n",
       "    <tr>\n",
       "      <th>0</th>\n",
       "      <td>1428.117687</td>\n",
       "      <td>0.991325</td>\n",
       "      <td>-30.600006</td>\n",
       "      <td>1155.281454</td>\n",
       "      <td>0.992448</td>\n",
       "      <td>-31.601196</td>\n",
       "      <td>1.0</td>\n",
       "    </tr>\n",
       "    <tr>\n",
       "      <th>1</th>\n",
       "      <td>780.023360</td>\n",
       "      <td>0.891186</td>\n",
       "      <td>-72.350006</td>\n",
       "      <td>779.853253</td>\n",
       "      <td>0.905027</td>\n",
       "      <td>-72.786499</td>\n",
       "      <td>1.0</td>\n",
       "    </tr>\n",
       "    <tr>\n",
       "      <th>2</th>\n",
       "      <td>342.309390</td>\n",
       "      <td>0.049923</td>\n",
       "      <td>142.449997</td>\n",
       "      <td>331.689698</td>\n",
       "      <td>0.088981</td>\n",
       "      <td>142.684357</td>\n",
       "      <td>0.0</td>\n",
       "    </tr>\n",
       "    <tr>\n",
       "      <th>3</th>\n",
       "      <td>429.780678</td>\n",
       "      <td>0.247631</td>\n",
       "      <td>-43.950012</td>\n",
       "      <td>416.486078</td>\n",
       "      <td>0.219217</td>\n",
       "      <td>-44.482025</td>\n",
       "      <td>0.0</td>\n",
       "    </tr>\n",
       "    <tr>\n",
       "      <th>4</th>\n",
       "      <td>231.829553</td>\n",
       "      <td>-0.032255</td>\n",
       "      <td>99.449997</td>\n",
       "      <td>229.568034</td>\n",
       "      <td>-0.064637</td>\n",
       "      <td>100.288452</td>\n",
       "      <td>0.0</td>\n",
       "    </tr>\n",
       "    <tr>\n",
       "      <th>5</th>\n",
       "      <td>165.293597</td>\n",
       "      <td>0.113855</td>\n",
       "      <td>-99.449997</td>\n",
       "      <td>167.790695</td>\n",
       "      <td>0.220913</td>\n",
       "      <td>-100.119431</td>\n",
       "      <td>0.0</td>\n",
       "    </tr>\n",
       "    <tr>\n",
       "      <th>6</th>\n",
       "      <td>545.947957</td>\n",
       "      <td>0.965906</td>\n",
       "      <td>179.550018</td>\n",
       "      <td>503.022569</td>\n",
       "      <td>0.965395</td>\n",
       "      <td>179.261200</td>\n",
       "      <td>0.0</td>\n",
       "    </tr>\n",
       "    <tr>\n",
       "      <th>7</th>\n",
       "      <td>518.678725</td>\n",
       "      <td>0.898120</td>\n",
       "      <td>-8.599994</td>\n",
       "      <td>572.277117</td>\n",
       "      <td>0.876643</td>\n",
       "      <td>-9.281677</td>\n",
       "      <td>0.0</td>\n",
       "    </tr>\n",
       "    <tr>\n",
       "      <th>8</th>\n",
       "      <td>397.786937</td>\n",
       "      <td>-0.283479</td>\n",
       "      <td>30.200001</td>\n",
       "      <td>391.196907</td>\n",
       "      <td>0.314893</td>\n",
       "      <td>-14.707245</td>\n",
       "      <td>0.0</td>\n",
       "    </tr>\n",
       "    <tr>\n",
       "      <th>9</th>\n",
       "      <td>195.910131</td>\n",
       "      <td>-0.152220</td>\n",
       "      <td>25.849979</td>\n",
       "      <td>258.241213</td>\n",
       "      <td>-0.093211</td>\n",
       "      <td>27.449158</td>\n",
       "      <td>0.0</td>\n",
       "    </tr>\n",
       "  </tbody>\n",
       "</table>\n",
       "</div>"
      ],
      "text/plain": [
       "   reco_leading_muon_momentum  reco_leading_muon_costheta  reco_vertex_x  \\\n",
       "0                 1428.117687                    0.991325     -30.600006   \n",
       "1                  780.023360                    0.891186     -72.350006   \n",
       "2                  342.309390                    0.049923     142.449997   \n",
       "3                  429.780678                    0.247631     -43.950012   \n",
       "4                  231.829553                   -0.032255      99.449997   \n",
       "5                  165.293597                    0.113855     -99.449997   \n",
       "6                  545.947957                    0.965906     179.550018   \n",
       "7                  518.678725                    0.898120      -8.599994   \n",
       "8                  397.786937                   -0.283479      30.200001   \n",
       "9                  195.910131                   -0.152220      25.849979   \n",
       "\n",
       "   true_leading_muon_momentum  true_leading_muon_costheta  true_vertex_x  \\\n",
       "0                 1155.281454                    0.992448     -31.601196   \n",
       "1                  779.853253                    0.905027     -72.786499   \n",
       "2                  331.689698                    0.088981     142.684357   \n",
       "3                  416.486078                    0.219217     -44.482025   \n",
       "4                  229.568034                   -0.064637     100.288452   \n",
       "5                  167.790695                    0.220913    -100.119431   \n",
       "6                  503.022569                    0.965395     179.261200   \n",
       "7                  572.277117                    0.876643      -9.281677   \n",
       "8                  391.196907                    0.314893     -14.707245   \n",
       "9                  258.241213                   -0.093211      27.449158   \n",
       "\n",
       "   true_category  \n",
       "0            1.0  \n",
       "1            1.0  \n",
       "2            0.0  \n",
       "3            0.0  \n",
       "4            0.0  \n",
       "5            0.0  \n",
       "6            0.0  \n",
       "7            0.0  \n",
       "8            0.0  \n",
       "9            0.0  "
      ]
     },
     "execution_count": 27,
     "metadata": {},
     "output_type": "execute_result"
    }
   ],
   "source": [
    "keys = ['reco_leading_muon_momentum',\n",
    "  'reco_leading_muon_costheta',\n",
    "  'reco_vertex_x',\n",
    "  'true_leading_muon_momentum',\n",
    "  'true_leading_muon_costheta',\n",
    "  'true_vertex_x',\n",
    "  'true_category']\n",
    "cut_dict = {\n",
    "  'reco_valid_flashmatch': 'Flash Match',\n",
    "  'reco_fiducial_bool': 'Fiducial',\n",
    "  'reco_has_muon_bool': 'Has Muon',\n",
    "  'reco_leading_muon_start_dedx_bool': 'Start dE/dx',\n",
    "  'reco_flash_score_bool': 'Flash Score'}\n",
    "#keys = keys + list(cut_dict.keys())\n",
    "cut_names = ['None'] + list(cut_dict.keys()) #Add none to beginning\n",
    "\n",
    "df = tree_nu['selected1muX;1'].arrays(keys, library='pd')\n",
    "df_nu = tree_nu['selected1muXNu_none;1'].arrays(keys, library='pd')\n",
    "df_cos = tree_cos['selected1muXCos_none;1'].arrays(keys, library='pd')\n",
    "df_offbeam = tree_offbeam['selected1muXNu_none;1'].arrays(keys, library='pd')\n",
    "df_offbeam['true_category'] = 7 #override to cosmic category\n",
    "df_data = tree_data['selected1muXNu_none;3'].arrays(keys, library='pd')\n",
    "\n",
    "dfs = [df_nu, df_cos, df_offbeam] #Exclude data for purity calculation\n",
    "\n",
    "df.head(10)"
   ]
  },
  {
   "cell_type": "code",
   "execution_count": 29,
   "id": "e5ad21a3",
   "metadata": {},
   "outputs": [
    {
     "data": {
      "text/plain": [
       "(np.int64(78), 3051)"
      ]
     },
     "execution_count": 29,
     "metadata": {},
     "output_type": "execute_result"
    }
   ],
   "source": [
    "#Find fraction of reco->true that are Nan\n",
    "np.sum(df.true_category.isna()),len(df)"
   ]
  },
  {
   "cell_type": "code",
   "execution_count": 15,
   "id": "6f56c1a2",
   "metadata": {},
   "outputs": [
    {
     "data": {
      "text/plain": [
       "0          True\n",
       "1         False\n",
       "2         False\n",
       "3         False\n",
       "4         False\n",
       "          ...  \n",
       "101548    False\n",
       "101549    False\n",
       "101550    False\n",
       "101551    False\n",
       "101552    False\n",
       "Name: true_vertex_x, Length: 101553, dtype: bool"
      ]
     },
     "execution_count": 15,
     "metadata": {},
     "output_type": "execute_result"
    }
   ],
   "source": [
    "df.true_vertex_x.isna()"
   ]
  },
  {
   "cell_type": "markdown",
   "id": "e062bfc6",
   "metadata": {},
   "source": [
    "## 2. Compute purity"
   ]
  },
  {
   "cell_type": "code",
   "execution_count": 8,
   "id": "2e6a7199",
   "metadata": {},
   "outputs": [],
   "source": [
    "def get_purities(dfs, weights, cut_names, category_inds=[0,1]):\n",
    "    \"\"\"\n",
    "    Return the purities for a given set of cuts and categories.\n",
    "\n",
    "    Parameters\n",
    "    ----------\n",
    "    dfs : list of pandas.DataFrame\n",
    "        List of dataframes to compute the purities for. The dfs are\n",
    "        different samples.\n",
    "    weights : list of float\n",
    "        List of weights for each dataframe.\n",
    "    cut_names : list of str\n",
    "        List of cut names to compute the purities for.\n",
    "    category_inds : list of int, optional\n",
    "        List of category indices to compute the purities for.\n",
    "\n",
    "    Returns\n",
    "    -------\n",
    "    purities : dict\n",
    "        Dictionary of purities for each cut.\n",
    "    \"\"\"\n",
    "    _dfs = [df.copy() for df in dfs]\n",
    "    purities = {}\n",
    "    for cut_name in cut_names:\n",
    "      n_sig, n_bkg = 0., 0.\n",
    "      for _df, weight in zip(_dfs, weights):\n",
    "        if cut_name == 'None':\n",
    "          cut_bool = [True] * len(_df)\n",
    "          n_sig += _df[_df['true_category'].isin(category_inds)].shape[0]*weight\n",
    "          n_bkg += _df[~_df['true_category'].isin(category_inds)].shape[0]*weight\n",
    "        else:\n",
    "          n_sig += _df[_df['true_category'].isin(category_inds)][cut_name].sum()*weight\n",
    "          n_bkg += _df[~_df['true_category'].isin(category_inds)][cut_name].sum()*weight\n",
    "      purities[cut_name] = n_sig / (n_sig + n_bkg)\n",
    "      if cut_name != 'None':\n",
    "        _dfs = [_df[_df[cut_name].astype(bool)] for _df in _dfs]\n",
    "    return purities"
   ]
  },
  {
   "cell_type": "code",
   "execution_count": 9,
   "id": "573e46e6",
   "metadata": {},
   "outputs": [
    {
     "data": {
      "text/plain": [
       "{'None': ['No cut', '3.7%'],\n",
       " 'reco_valid_flashmatch': ['Flash Match', '28.8%'],\n",
       " 'reco_fiducial_bool': ['Fiducial', '55.9%'],\n",
       " 'reco_has_muon_bool': ['Has Muon', '73.6%'],\n",
       " 'reco_leading_muon_start_dedx_bool': ['Start dE/dx', '81.5%'],\n",
       " 'reco_flash_score_bool': ['Flash Score', '89.9%']}"
      ]
     },
     "execution_count": 9,
     "metadata": {},
     "output_type": "execute_result"
    }
   ],
   "source": [
    "purities = get_purities(dfs, weights, cut_names)\n",
    "cut_purity_dict = {}\n",
    "for cut_name, purity in purities.items():\n",
    "  if cut_name != 'None':\n",
    "    cut_purity_dict[cut_name] = [cut_dict[cut_name], f\"{purity*100:.1f}%\"]\n",
    "  else:\n",
    "    cut_purity_dict[cut_name] = ['No cut', f\"{purity*100:.1f}%\"]\n",
    "cut_purity_dict"
   ]
  },
  {
   "cell_type": "markdown",
   "id": "417de669",
   "metadata": {},
   "source": [
    "## 3. Make a pretty table"
   ]
  },
  {
   "cell_type": "code",
   "execution_count": 10,
   "id": "40cf1024",
   "metadata": {},
   "outputs": [
    {
     "data": {
      "image/png": "[encoded data removed]",
      "text/plain": [
       "<Figure size 500x300 with 1 Axes>"
      ]
     },
     "metadata": {},
     "output_type": "display_data"
    }
   ],
   "source": [
    "from spineplot.utilities import mark_pot, mark_preliminary\n",
    "\n",
    "def create_purity_table(cut_dict_purity, ax):\n",
    "    \"\"\"\n",
    "    Create a pretty table for purity data similar to the efficiency table format.\n",
    "    \n",
    "    Parameters\n",
    "    ----------\n",
    "    cut_dict_purity : dict\n",
    "        Dictionary with cut keys and [label, purity] values\n",
    "    ax : matplotlib.axes.Axes\n",
    "        The axis to draw the table on\n",
    "    title : str\n",
    "        Title for the table\n",
    "    \"\"\"\n",
    "    # Clear the axis for table display\n",
    "    ax.axis('off')\n",
    "    \n",
    "    # Create the table data\n",
    "    cuts = []\n",
    "    purities = []\n",
    "    \n",
    "    for cut_key, (label, purity) in cut_dict_purity.items():\n",
    "        cuts.append(label)\n",
    "        purities.append(purity)\n",
    "    \n",
    "    # Create DataFrame\n",
    "    results = pd.DataFrame({\n",
    "        'Cut': cuts,\n",
    "        'Purity [%]': purities\n",
    "    })\n",
    "    \n",
    "    # Create table data\n",
    "    table_data = [results.columns.to_list()] + results.values.tolist()\n",
    "    \n",
    "    # Create the table\n",
    "    table = ax.table(cellText=table_data, colLabels=None, loc='center', \n",
    "                    cellLoc='center', edges='T')\n",
    "    table.scale(1, 2.75)\n",
    "    \n",
    "    # Style the table edges\n",
    "    for i in range(2, len(table_data)):\n",
    "        if i == len(table_data) - 1:\n",
    "            # Bottom row gets bottom edge\n",
    "            for j in range(len(table_data[i])):\n",
    "                table[i, j].visible_edges = 'B'\n",
    "        else:\n",
    "            # Other rows get no edges except for group separators\n",
    "            for j in range(len(table_data[i])):\n",
    "                table[i, j].visible_edges = 'open'\n",
    "    \n",
    "    # Auto-scale the table to fit\n",
    "    def calc_bbox_yext(obj):\n",
    "        figure = plt.gcf()\n",
    "        bbox = obj.get_window_extent(renderer=figure.canvas.get_renderer())\n",
    "        p0, p1 = figure.transFigure.inverted().transform(bbox)\n",
    "        return p1[1] - p0[1]\n",
    "\n",
    "    scale = 2.75\n",
    "    while calc_bbox_yext(table) > 0.92:\n",
    "        table.scale(1, 1/scale)\n",
    "        scale -= 0.05\n",
    "        table.scale(1, scale)\n",
    "    \n",
    "    if scale < 2.0:\n",
    "        print(f'Warning: Table with title `{title}` is too large to fit on the figure (scale = {scale:.2f}). Consider extending the figure vertically.')\n",
    "    \n",
    "    mark_preliminary(ax,'SBND Work-in-Progress',y=1.12)\n",
    "    mark_pot(ax,pot_nu,vadj=0.1,horizontal=True)\n",
    "\n",
    "    return table\n",
    "\n",
    "# Create figure and axis\n",
    "fig, ax = plt.subplots(figsize=(5, 3))\n",
    "\n",
    "# Create the table\n",
    "table = create_purity_table(cut_purity_dict, ax)\n",
    "\n",
    "fig.savefig(os.path.join(OUTPUT_DIR,'pur_table.png'),dpi=300,bbox_inches='tight')"
   ]
  }
 ],
 "metadata": {
  "kernelspec": {
   "display_name": "env",
   "language": "python",
   "name": "python3"
  },
  "language_info": {
   "codemirror_mode": {
    "name": "ipython",
    "version": 3
   },
   "file_extension": ".py",
   "mimetype": "text/x-python",
   "name": "python",
   "nbconvert_exporter": "python",
   "pygments_lexer": "ipython3",
   "version": "3.9.21"
  }
 },
 "nbformat": 4,
 "nbformat_minor": 5
}
