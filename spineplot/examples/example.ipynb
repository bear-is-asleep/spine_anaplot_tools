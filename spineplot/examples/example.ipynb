{
 "cells": [
  {
   "cell_type": "code",
   "execution_count": 13,
   "metadata": {},
   "outputs": [
    {
     "name": "stdout",
     "output_type": "stream",
     "text": [
      "The autoreload extension is already loaded. To reload it, use:\n",
      "  %reload_ext autoreload\n"
     ]
    }
   ],
   "source": [
    "import toml\n",
    "import os,sys\n",
    "MEDULLA_PATH = '/exp/sbnd/app/users/brindenc/develop/medulla_area/medulla'\n",
    "sys.path.append(MEDULLA_PATH)\n",
    "sys.path.append(os.path.join(MEDULLA_PATH,'spineplot'))\n",
    "sys.path.append(os.getcwd())\n",
    "from analysis import Analysis\n",
    "\n",
    "from matplotlib import pyplot as plt\n",
    "\n",
    "%load_ext autoreload\n",
    "%autoreload 2"
   ]
  },
  {
   "cell_type": "code",
   "execution_count": 31,
   "metadata": {},
   "outputs": [
    {
     "ename": "ValueError",
     "evalue": "Variable \"true_edep\" not found in sample \"mc\".",
     "output_type": "error",
     "traceback": [
      "\u001b[0;31m---------------------------------------------------------------------------\u001b[0m",
      "\u001b[0;31mValueError\u001b[0m                                Traceback (most recent call last)",
      "Cell \u001b[0;32mIn[31], line 41\u001b[0m\n\u001b[1;32m     38\u001b[0m \u001b[38;5;66;03m#file = '/Users/mueller/data/muon2024.root'\u001b[39;00m\n\u001b[1;32m     39\u001b[0m file \u001b[38;5;241m=\u001b[39m \u001b[38;5;124m'\u001b[39m\u001b[38;5;124m/exp/sbnd/data/users/brindenc/medulla/test/example.root\u001b[39m\u001b[38;5;124m'\u001b[39m\n\u001b[0;32m---> 41\u001b[0m analysis \u001b[38;5;241m=\u001b[39m \u001b[43mAnalysis\u001b[49m\u001b[43m(\u001b[49m\u001b[38;5;124;43m'\u001b[39;49m\u001b[38;5;124;43mcfg.toml\u001b[39;49m\u001b[38;5;124;43m'\u001b[39;49m\u001b[43m,\u001b[49m\u001b[43m \u001b[49m\u001b[43mfile\u001b[49m\u001b[43m)\u001b[49m\n\u001b[1;32m     42\u001b[0m analysis\u001b[38;5;241m.\u001b[39mrun(close_figs\u001b[38;5;241m=\u001b[39m\u001b[38;5;28;01mFalse\u001b[39;00m)\n",
      "File \u001b[0;32m/exp/sbnd/app/users/brindenc/develop/medulla_area/medulla/spineplot/analysis.py:95\u001b[0m, in \u001b[0;36mAnalysis.__init__\u001b[0;34m(self, toml_path, rf_path)\u001b[0m\n\u001b[1;32m     93\u001b[0m     \u001b[38;5;28;01mfor\u001b[39;00m v \u001b[38;5;129;01min\u001b[39;00m \u001b[38;5;28mself\u001b[39m\u001b[38;5;241m.\u001b[39m_variables\u001b[38;5;241m.\u001b[39mvalues():\n\u001b[1;32m     94\u001b[0m         s\u001b[38;5;241m.\u001b[39mregister_variable(v, \u001b[38;5;28mself\u001b[39m\u001b[38;5;241m.\u001b[39m_categories)\n\u001b[0;32m---> 95\u001b[0m     \u001b[43ms\u001b[49m\u001b[38;5;241;43m.\u001b[39;49m\u001b[43mprocess_systematics\u001b[49m\u001b[43m(\u001b[49m\u001b[43mrecipes\u001b[49m\u001b[43m)\u001b[49m\n\u001b[1;32m     97\u001b[0m \u001b[38;5;66;03m# Load the artists table\u001b[39;00m\n\u001b[1;32m     98\u001b[0m \u001b[38;5;28;01mif\u001b[39;00m \u001b[38;5;124m'\u001b[39m\u001b[38;5;124mfigure\u001b[39m\u001b[38;5;124m'\u001b[39m \u001b[38;5;129;01mnot\u001b[39;00m \u001b[38;5;129;01min\u001b[39;00m \u001b[38;5;28mself\u001b[39m\u001b[38;5;241m.\u001b[39m_config\u001b[38;5;241m.\u001b[39mkeys():\n",
      "File \u001b[0;32m/exp/sbnd/app/users/brindenc/develop/medulla_area/medulla/spineplot/sample.py:246\u001b[0m, in \u001b[0;36mSample.process_systematics\u001b[0;34m(self, recipes)\u001b[0m\n\u001b[1;32m    232\u001b[0m \u001b[38;5;250m\u001b[39m\u001b[38;5;124;03m\"\"\"\u001b[39;00m\n\u001b[1;32m    233\u001b[0m \u001b[38;5;124;03mProcesses the systematic uncertainties for the sample.\u001b[39;00m\n\u001b[1;32m    234\u001b[0m \n\u001b[0;32m   (...)\u001b[0m\n\u001b[1;32m    243\u001b[0m \u001b[38;5;124;03mNone.\u001b[39;00m\n\u001b[1;32m    244\u001b[0m \u001b[38;5;124;03m\"\"\"\u001b[39;00m\n\u001b[1;32m    245\u001b[0m \u001b[38;5;28;01mfor\u001b[39;00m syst \u001b[38;5;129;01min\u001b[39;00m \u001b[38;5;28mself\u001b[39m\u001b[38;5;241m.\u001b[39m_systematics\u001b[38;5;241m.\u001b[39mvalues():\n\u001b[0;32m--> 246\u001b[0m     \u001b[43msyst\u001b[49m\u001b[38;5;241;43m.\u001b[39;49m\u001b[43mprocess\u001b[49m\u001b[43m(\u001b[49m\u001b[38;5;28;43mself\u001b[39;49m\u001b[43m,\u001b[49m\u001b[43m \u001b[49m\u001b[38;5;28;43mself\u001b[39;49m\u001b[38;5;241;43m.\u001b[39;49m\u001b[43m_presel_mask\u001b[49m\u001b[43m)\u001b[49m\n\u001b[1;32m    248\u001b[0m \u001b[38;5;66;03m# Each recipe has a name, which is used to identify the\u001b[39;00m\n\u001b[1;32m    249\u001b[0m \u001b[38;5;66;03m# combination of systematic uncertainties, and a pattern,\u001b[39;00m\n\u001b[1;32m    250\u001b[0m \u001b[38;5;66;03m# which is used to build a list of Systematic objects to\u001b[39;00m\n\u001b[1;32m    251\u001b[0m \u001b[38;5;66;03m# combine.\u001b[39;00m\n\u001b[1;32m    252\u001b[0m \u001b[38;5;28;01mfor\u001b[39;00m recipe \u001b[38;5;129;01min\u001b[39;00m recipes:\n",
      "File \u001b[0;32m/exp/sbnd/app/users/brindenc/develop/medulla_area/medulla/spineplot/systematic.py:193\u001b[0m, in \u001b[0;36mSystematic.process\u001b[0;34m(self, sample, mask, nuniv)\u001b[0m\n\u001b[1;32m    191\u001b[0m \u001b[38;5;28;01mfor\u001b[39;00m name, variable \u001b[38;5;129;01min\u001b[39;00m \u001b[38;5;28mself\u001b[39m\u001b[38;5;241m.\u001b[39m_variables\u001b[38;5;241m.\u001b[39mitems():\n\u001b[1;32m    192\u001b[0m     \u001b[38;5;28;01mif\u001b[39;00m name \u001b[38;5;129;01mnot\u001b[39;00m \u001b[38;5;129;01min\u001b[39;00m sample\u001b[38;5;241m.\u001b[39m_data\u001b[38;5;241m.\u001b[39mkeys():\n\u001b[0;32m--> 193\u001b[0m         \u001b[38;5;28;01mraise\u001b[39;00m \u001b[38;5;167;01mValueError\u001b[39;00m(\u001b[38;5;124mf\u001b[39m\u001b[38;5;124m'\u001b[39m\u001b[38;5;124mVariable \u001b[39m\u001b[38;5;124m\"\u001b[39m\u001b[38;5;132;01m{\u001b[39;00mname\u001b[38;5;132;01m}\u001b[39;00m\u001b[38;5;124m\"\u001b[39m\u001b[38;5;124m not found in sample \u001b[39m\u001b[38;5;124m\"\u001b[39m\u001b[38;5;132;01m{\u001b[39;00msample\u001b[38;5;241m.\u001b[39m_name\u001b[38;5;132;01m}\u001b[39;00m\u001b[38;5;124m\"\u001b[39m\u001b[38;5;124m.\u001b[39m\u001b[38;5;124m'\u001b[39m)\n\u001b[1;32m    194\u001b[0m     data \u001b[38;5;241m=\u001b[39m sample\u001b[38;5;241m.\u001b[39m_data[name]\u001b[38;5;241m.\u001b[39mto_numpy()\n\u001b[1;32m    195\u001b[0m     bin_edges \u001b[38;5;241m=\u001b[39m \u001b[38;5;28mlist\u001b[39m(variable\u001b[38;5;241m.\u001b[39m_bin_edges\u001b[38;5;241m.\u001b[39mvalues())[\u001b[38;5;241m0\u001b[39m]\n",
      "\u001b[0;31mValueError\u001b[0m: Variable \"true_edep\" not found in sample \"mc\"."
     ]
    }
   ],
   "source": [
    "cfg = \"\"\"\n",
    "[[this_includes]]\n",
    "file = 'MEDULLA_PATH/spineplot/configurations/common/variables.toml'\n",
    "\n",
    "[[this_includes]]\n",
    "file = 'MEDULLA_PATH/spineplot/configurations/common/styles.toml'\n",
    "\n",
    "[samples]\n",
    "[samples.mc]\n",
    "key = \"simulation\"\n",
    "exposure_type = \"pot\"\n",
    "trees = ['selected1mu1p','signal1mu1p']\n",
    "\n",
    "[output]\n",
    "path = '/exp/sbnd/data/users/brindenc/medulla/test/tmp'\n",
    "\n",
    "[analysis]\n",
    "ordinate_sample = 'mc'\n",
    "category_branch = 'category'\n",
    "category_assignment = [[0,2], [1,3,4,5,6], [7], [-1,8]]\n",
    "category_labels = ['1$\\\\mu$Np', 'Other CC $\\\\nu$', 'NC $\\\\nu$', 'Cosmic']\n",
    "category_colors = ['C0', 'C1', 'C3', 'C4', 'black']\n",
    "category_types = ['histogram', 'histogram', 'histogram', 'histogram']\n",
    "\n",
    "[[figure]]\n",
    "name = 'reco_edep'\n",
    "type = 'SimpleFigure'\n",
    "style = 'selected_icarus'\n",
    "[[figure.artists]]\n",
    "type = 'SpineSpectra1D'\n",
    "variable = 'reco_visible_energy'\n",
    "draw_kwargs = {'show_component_number' = true, 'show_component_percentage' = true, 'invert_stack_order' = false}\n",
    "\"\"\".replace('MEDULLA_PATH',MEDULLA_PATH)\n",
    "# Write the string to a file\n",
    "with open('cfg.toml', 'w') as f:\n",
    "    f.write(cfg)\n",
    "\n",
    "#file = '/Users/mueller/data/muon2024.root'\n",
    "file = '/exp/sbnd/data/users/brindenc/medulla/test/example.root'\n",
    "\n",
    "analysis = Analysis('cfg.toml', file)\n",
    "analysis.run(close_figs=False)"
   ]
  },
  {
   "cell_type": "code",
   "execution_count": 15,
   "metadata": {},
   "outputs": [
    {
     "data": {
      "text/plain": [
       "['Solarize_Light2',\n",
       " '_classic_test_patch',\n",
       " '_mpl-gallery',\n",
       " '_mpl-gallery-nogrid',\n",
       " 'bmh',\n",
       " 'bright',\n",
       " 'cjk-jp-font',\n",
       " 'cjk-kr-font',\n",
       " 'cjk-sc-font',\n",
       " 'cjk-tc-font',\n",
       " 'classic',\n",
       " 'dark_background',\n",
       " 'fast',\n",
       " 'fivethirtyeight',\n",
       " 'ggplot',\n",
       " 'grayscale',\n",
       " 'grid',\n",
       " 'high-contrast',\n",
       " 'high-vis',\n",
       " 'ieee',\n",
       " 'latex-sans',\n",
       " 'light',\n",
       " 'muted',\n",
       " 'nature',\n",
       " 'no-latex',\n",
       " 'notebook',\n",
       " 'pgf',\n",
       " 'retro',\n",
       " 'scatter',\n",
       " 'science',\n",
       " 'seaborn-v0_8',\n",
       " 'seaborn-v0_8-bright',\n",
       " 'seaborn-v0_8-colorblind',\n",
       " 'seaborn-v0_8-dark',\n",
       " 'seaborn-v0_8-dark-palette',\n",
       " 'seaborn-v0_8-darkgrid',\n",
       " 'seaborn-v0_8-deep',\n",
       " 'seaborn-v0_8-muted',\n",
       " 'seaborn-v0_8-notebook',\n",
       " 'seaborn-v0_8-paper',\n",
       " 'seaborn-v0_8-pastel',\n",
       " 'seaborn-v0_8-poster',\n",
       " 'seaborn-v0_8-talk',\n",
       " 'seaborn-v0_8-ticks',\n",
       " 'seaborn-v0_8-white',\n",
       " 'seaborn-v0_8-whitegrid',\n",
       " 'std-colors',\n",
       " 'tableau-colorblind10',\n",
       " 'vibrant']"
      ]
     },
     "execution_count": 15,
     "metadata": {},
     "output_type": "execute_result"
    }
   ],
   "source": [
    "plt.style.available"
   ]
  },
  {
   "cell_type": "code",
   "execution_count": null,
   "metadata": {},
   "outputs": [],
   "source": []
  }
 ],
 "metadata": {
  "kernelspec": {
   "display_name": "env",
   "language": "python",
   "name": "python3"
  },
  "language_info": {
   "codemirror_mode": {
    "name": "ipython",
    "version": 3
   },
   "file_extension": ".py",
   "mimetype": "text/x-python",
   "name": "python",
   "nbconvert_exporter": "python",
   "pygments_lexer": "ipython3",
   "version": "3.9.21"
  }
 },
 "nbformat": 4,
 "nbformat_minor": 2
}
